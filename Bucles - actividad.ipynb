{
 "cells": [
  {
   "cell_type": "markdown",
   "metadata": {},
   "source": [
    "## Bucles - Actividad\n",
    "*Los ejercicios propuestos a continuación presentan autocorrección. En cada uno habrá dos bloques, uno para resolver el ejercicio y otro para testear tu solución.*\n",
    "Ejemplo:"
   ]
  },
  {
   "cell_type": "code",
   "execution_count": 1,
   "metadata": {},
   "outputs": [],
   "source": [
    "def ejemplo():\n",
    "    return \"ejemplo\""
   ]
  },
  {
   "cell_type": "code",
   "execution_count": 2,
   "metadata": {},
   "outputs": [
    {
     "name": "stdout",
     "output_type": "stream",
     "text": [
      "\u001b[92mMuy bien!\n"
     ]
    }
   ],
   "source": [
    "# TEST EJEMPLO\n",
    "\n",
    "try:\n",
    "    assert ejemplo() == \"ejemplo\", \"ejemplo() debería retornar 'ejemplo'\"\n",
    "    print('\\033[92m' + 'Muy bien!')\n",
    "except AssertionError as e:\n",
    "    print('\\033[91m' + str(e))"
   ]
  },
  {
   "cell_type": "markdown",
   "metadata": {},
   "source": [
    "1. Escribir un programa que calcule la suma de los primeros n números naturales y retorne el resultado"
   ]
  },
  {
   "cell_type": "code",
   "execution_count": 1,
   "metadata": {},
   "outputs": [
    {
     "name": "stdout",
     "output_type": "stream",
     "text": [
      "La suma de los primeros 8 números naturales es: 36\n"
     ]
    }
   ],
   "source": [
    "def suma_numeros_naturales(n):\n",
    "    suma = 0\n",
    "\n",
    "    for i in range(1, n + 1):\n",
    "        suma += i\n",
    "\n",
    "    return suma\n",
    "\n",
    "\n",
    "numero = int(input(\"Ingresa un número entero positivo: \"))\n",
    "\n",
    "\n",
    "resultado = suma_numeros_naturales(numero)\n",
    "\n",
    "\n",
    "print(f\"La suma de los primeros {numero} números naturales es: {resultado}\")\n",
    "    \n"
   ]
  },
  {
   "cell_type": "markdown",
   "metadata": {},
   "source": [
    "2. Escribe un programa que cuente cuántos números pares hay en un rango del 1 al n, **incluyendo n**.\n",
    "Debe retornar el número de números pares encontrados."
   ]
  },
  {
   "cell_type": "code",
   "execution_count": 2,
   "metadata": {},
   "outputs": [
    {
     "name": "stdout",
     "output_type": "stream",
     "text": [
      "La cantidad de números pares en el rango del 1 al 9 es: 4\n"
     ]
    }
   ],
   "source": [
    "def contar_numeros_pares(n):\n",
    "    contador = 0\n",
    "\n",
    "\n",
    "    for i in range(1, n + 1):\n",
    "    \n",
    "        if i % 2 == 0:\n",
    "            contador += 1\n",
    "\n",
    "    return contador\n",
    "\n",
    "\n",
    "def ingresar_numero():\n",
    "    while True:\n",
    "        try:\n",
    "            numero = int(input(\"Ingresa un número entero positivo: \"))\n",
    "            if numero > 0:\n",
    "                return numero\n",
    "            else:\n",
    "                print(\"Por favor, ingresa un número entero positivo.\")\n",
    "        except ValueError:\n",
    "            print(\"Por favor, ingresa un número entero.\")\n",
    "\n",
    "\n",
    "numero_ingresado = ingresar_numero()\n",
    "\n",
    "\n",
    "cantidad_pares = contar_numeros_pares(numero_ingresado)\n",
    "\n",
    "\n",
    "print(f\"La cantidad de números pares en el rango del 1 al {numero_ingresado} es: {cantidad_pares}\")"
   ]
  },
  {
   "cell_type": "markdown",
   "metadata": {},
   "source": [
    "3. Escribe un programa que reciba una cadena de texto y cuente cuántas vocales contiene.\n",
    "Debe retornar el número total de vocales. Las vocales pueden ser mayúsculas o minúsculas."
   ]
  },
  {
   "cell_type": "code",
   "execution_count": 4,
   "metadata": {},
   "outputs": [
    {
     "name": "stdout",
     "output_type": "stream",
     "text": [
      "El número total de vocales en la cadena es: 3\n"
     ]
    }
   ],
   "source": [
    "def contar_vocales(cadena):\n",
    "\n",
    "    cadena = cadena.lower()\n",
    "    \n",
    "\n",
    "    vocales = {'a', 'e', 'i', 'o', 'u'}\n",
    "    \n",
    "    contador_vocales = 0\n",
    "\n",
    "    \n",
    "    for caracter in cadena:\n",
    "        \n",
    "        if caracter in vocales:\n",
    "            contador_vocales += 1\n",
    "\n",
    "    return contador_vocales\n",
    "\n",
    "texto = input(\"Ingresa una cadena de texto: \")\n",
    "\n",
    "\n",
    "cantidad_vocales = contar_vocales(texto)\n",
    "\n",
    "\n",
    "print(f\"El número total de vocales en la cadena es: {cantidad_vocales}\")"
   ]
  },
  {
   "cell_type": "markdown",
   "metadata": {},
   "source": [
    "4. Escribe un programa que encuentre el número más grande en una lista de números.\n",
    "Debe retornar el `'El numero mas grande es {numero}'`"
   ]
  },
  {
   "cell_type": "code",
   "execution_count": 5,
   "metadata": {},
   "outputs": [
    {
     "name": "stdout",
     "output_type": "stream",
     "text": [
      "El número más grande es 99\n"
     ]
    }
   ],
   "source": [
    "def encontrar_numero_mas_grande(lista):\n",
    "    if not lista:\n",
    "        return \"La lista está vacía. No se puede encontrar el número más grande.\"\n",
    "\n",
    "    numero_mas_grande = lista[0]\n",
    "\n",
    "    for numero in lista:\n",
    "        if numero > numero_mas_grande:\n",
    "            numero_mas_grande = numero\n",
    "\n",
    "    return f\"El número más grande es {numero_mas_grande}\"\n",
    "\n",
    "\n",
    "numeros = [35, 12, 87, 22, 63, 99, 54]\n",
    "\n",
    "\n",
    "resultado = encontrar_numero_mas_grande(numeros)\n",
    "\n",
    "\n",
    "print(resultado)"
   ]
  },
  {
   "cell_type": "markdown",
   "metadata": {},
   "source": [
    "5. Encontrar los números primos en un rango del 1 al n, **incluyendo n**.\n",
    "Debe retornar una lista con los números primos encontrados."
   ]
  },
  {
   "cell_type": "code",
   "execution_count": 10,
   "metadata": {},
   "outputs": [
    {
     "name": "stdout",
     "output_type": "stream",
     "text": [
      "La cantidad de números primos en el rango del 1 al 7 es: 3\n"
     ]
    }
   ],
   "source": [
    "def contar_numeros_primos(n):\n",
    "    contador = 0\n",
    "\n",
    "\n",
    "    for i in range(1, n + 1):\n",
    "    \n",
    "        if i % 1 == 1 and i % i == 0:\n",
    "            contador += 1\n",
    "\n",
    "    return contador\n",
    "\n",
    "\n",
    "\n",
    "def ingresar_numero():\n",
    "    while True:\n",
    "        try:\n",
    "            numero = int(input(\"Ingresa un número entero positivo: \"))\n",
    "            if numero > 0:\n",
    "                return numero\n",
    "            else:\n",
    "                print(\"Por favor, ingresa un número entero positivo.\")\n",
    "        except ValueError:\n",
    "            print(\"Por favor, ingresa un número entero.\")\n",
    "\n",
    "\n",
    "numero_ingresado = ingresar_numero()\n",
    "\n",
    "\n",
    "cantidad_primos = contar_numeros_pares(numero_ingresado)\n",
    "\n",
    "\n",
    "print(f\"La cantidad de números primos en el rango del 1 al {numero_ingresado} es: {cantidad_primos}\")"
   ]
  },
  {
   "cell_type": "markdown",
   "metadata": {},
   "source": [
    "6. Un __palíndromo__ es una palabra, número o frase que se lee igual hacia adelante que hacia atrás. Crear una funcion que reciba una cadena de texto y devuelva si dicha cadena es un palíndromo o no. *Devolver True si es un palíndromo y False si no lo es*"
   ]
  },
  {
   "cell_type": "code",
   "execution_count": 1,
   "metadata": {},
   "outputs": [
    {
     "name": "stdout",
     "output_type": "stream",
     "text": [
      "\"Anita lava la tina\" es un palíndromo.\n"
     ]
    }
   ],
   "source": [
    "def es_palindromo(cadena):\n",
    " \n",
    "    cadena = cadena.lower().replace(\" \", \"\")\n",
    "    \n",
    " \n",
    "    if cadena == cadena[::-1]:\n",
    "        return True\n",
    "    else:\n",
    "        return False\n",
    "\n",
    "\n",
    "texto = \"Anita lava la tina\"\n",
    "resultado = es_palindromo(texto)\n",
    "\n",
    "if resultado:\n",
    "    print(f'\"{texto}\" es un palíndromo.')\n",
    "else:\n",
    "    print(f'\"{texto}\" no es un palíndromo.')"
   ]
  },
  {
   "cell_type": "markdown",
   "metadata": {},
   "source": [
    "7. Dada una lista de nombres, crear una funcion que devuelva una lista con los nombres que empiezan con la letra recibida como parámetro."
   ]
  },
  {
   "cell_type": "code",
   "execution_count": 1,
   "metadata": {},
   "outputs": [
    {
     "name": "stdout",
     "output_type": "stream",
     "text": [
      "Los nombres que empiezan con la letra 'M' son: ['María']\n"
     ]
    }
   ],
   "source": [
    "def nombres_con_letra(lista_nombres, letra):\n",
    "    nombres_con_la_letra = [nombre for nombre in lista_nombres if nombre.startswith(letra)]\n",
    "    return nombres_con_la_letra\n",
    "\n",
    "lista_de_nombres = [\"Juan\", \"María\", \"Luis\", \"Ana\", \"Pedro\", \"Lucía\"]\n",
    "letra_a_buscar = \"M\"\n",
    "\n",
    "nombres_con_letra_m = nombres_con_letra(lista_de_nombres, letra_a_buscar)\n",
    "print(f\"Los nombres que empiezan con la letra '{letra_a_buscar}' son: {nombres_con_letra_m}\")"
   ]
  },
  {
   "cell_type": "markdown",
   "metadata": {},
   "source": [
    "8. Crear una funcion que recibe un laberinto en forma de matriz y debe devolver la posicion de la salida del laberinto.\n",
    "\n",
    "*El laberinto es una matriz donde \"#\" representa una pared, un espacio \" \" representa un pasillo y \"S\" representa la salida*\n",
    "\n",
    "*Ejemplo:*\n",
    "\n",
    "```python\n",
    "laberinto = [[\"#\",\"#\",\"#\",\"#\",\"#\",\"#\"],\n",
    "             [\"#\",\" \",\" \",\" \",\"#\",\"#\"],\n",
    "             [\"#\",\" \",\"#\",\" \",\" \",\"#\"],\n",
    "             [\"#\",\" \",\"#\",\"#\",\" \",\"#\"],\n",
    "             [\"#\",\" \",\" \",\"#\",\" \",\"#\"],\n",
    "             [\"#\",\"#\",\"#\",\"#\",\"S\",\"#\"]]\n",
    "```\n",
    "La funcion debe recorrer elemento por elemento hasta encontrar la S y devolver la posicion de la S en forma de tupla (fila, columna).\n",
    "*Recomendación: utilizar un bucle for anidado (un for dentro de otro for) donde el primero recorra las filas y el segundo las columnas.*"
   ]
  },
  {
   "cell_type": "code",
   "execution_count": 2,
   "metadata": {},
   "outputs": [
    {
     "ename": "KeyboardInterrupt",
     "evalue": "",
     "output_type": "error",
     "traceback": [
      "\u001b[1;31m---------------------------------------------------------------------------\u001b[0m",
      "\u001b[1;31mKeyboardInterrupt\u001b[0m                         Traceback (most recent call last)",
      "\u001b[1;32mc:\\Users\\cami-javi\\Desktop\\PYTHON CASA DEL FUTURO\\GITHUB-bucles\\Python-bucles\\Bucles - actividad.ipynb Celda 19\u001b[0m line \u001b[0;36m5\n\u001b[0;32m     <a href='vscode-notebook-cell:/c%3A/Users/cami-javi/Desktop/PYTHON%20CASA%20DEL%20FUTURO/GITHUB-bucles/Python-bucles/Bucles%20-%20actividad.ipynb#X24sZmlsZQ%3D%3D?line=40'>41</a>\u001b[0m \u001b[39m# Ejemplo de uso:\u001b[39;00m\n\u001b[0;32m     <a href='vscode-notebook-cell:/c%3A/Users/cami-javi/Desktop/PYTHON%20CASA%20DEL%20FUTURO/GITHUB-bucles/Python-bucles/Bucles%20-%20actividad.ipynb#X24sZmlsZQ%3D%3D?line=41'>42</a>\u001b[0m laberinto \u001b[39m=\u001b[39m [\n\u001b[0;32m     <a href='vscode-notebook-cell:/c%3A/Users/cami-javi/Desktop/PYTHON%20CASA%20DEL%20FUTURO/GITHUB-bucles/Python-bucles/Bucles%20-%20actividad.ipynb#X24sZmlsZQ%3D%3D?line=42'>43</a>\u001b[0m     [\u001b[39m\"\u001b[39m\u001b[39m#\u001b[39m\u001b[39m\"\u001b[39m, \u001b[39m\"\u001b[39m\u001b[39m#\u001b[39m\u001b[39m\"\u001b[39m, \u001b[39m\"\u001b[39m\u001b[39m#\u001b[39m\u001b[39m\"\u001b[39m, \u001b[39m\"\u001b[39m\u001b[39m#\u001b[39m\u001b[39m\"\u001b[39m, \u001b[39m\"\u001b[39m\u001b[39m#\u001b[39m\u001b[39m\"\u001b[39m, \u001b[39m\"\u001b[39m\u001b[39m#\u001b[39m\u001b[39m\"\u001b[39m, \u001b[39m\"\u001b[39m\u001b[39m#\u001b[39m\u001b[39m\"\u001b[39m],\n\u001b[0;32m     <a href='vscode-notebook-cell:/c%3A/Users/cami-javi/Desktop/PYTHON%20CASA%20DEL%20FUTURO/GITHUB-bucles/Python-bucles/Bucles%20-%20actividad.ipynb#X24sZmlsZQ%3D%3D?line=43'>44</a>\u001b[0m     [\u001b[39m\"\u001b[39m\u001b[39m#\u001b[39m\u001b[39m\"\u001b[39m, \u001b[39m\"\u001b[39m\u001b[39m \u001b[39m\u001b[39m\"\u001b[39m, \u001b[39m\"\u001b[39m\u001b[39m \u001b[39m\u001b[39m\"\u001b[39m, \u001b[39m\"\u001b[39m\u001b[39m \u001b[39m\u001b[39m\"\u001b[39m, \u001b[39m\"\u001b[39m\u001b[39m#\u001b[39m\u001b[39m\"\u001b[39m, \u001b[39m\"\u001b[39m\u001b[39m \u001b[39m\u001b[39m\"\u001b[39m, \u001b[39m\"\u001b[39m\u001b[39m#\u001b[39m\u001b[39m\"\u001b[39m],\n\u001b[1;32m   (...)\u001b[0m\n\u001b[0;32m     <a href='vscode-notebook-cell:/c%3A/Users/cami-javi/Desktop/PYTHON%20CASA%20DEL%20FUTURO/GITHUB-bucles/Python-bucles/Bucles%20-%20actividad.ipynb#X24sZmlsZQ%3D%3D?line=48'>49</a>\u001b[0m     [\u001b[39m\"\u001b[39m\u001b[39m#\u001b[39m\u001b[39m\"\u001b[39m, \u001b[39m\"\u001b[39m\u001b[39m#\u001b[39m\u001b[39m\"\u001b[39m, \u001b[39m\"\u001b[39m\u001b[39m#\u001b[39m\u001b[39m\"\u001b[39m, \u001b[39m\"\u001b[39m\u001b[39m#\u001b[39m\u001b[39m\"\u001b[39m, \u001b[39m\"\u001b[39m\u001b[39m#\u001b[39m\u001b[39m\"\u001b[39m, \u001b[39m\"\u001b[39m\u001b[39m#\u001b[39m\u001b[39m\"\u001b[39m, \u001b[39m\"\u001b[39m\u001b[39m#\u001b[39m\u001b[39m\"\u001b[39m]\n\u001b[0;32m     <a href='vscode-notebook-cell:/c%3A/Users/cami-javi/Desktop/PYTHON%20CASA%20DEL%20FUTURO/GITHUB-bucles/Python-bucles/Bucles%20-%20actividad.ipynb#X24sZmlsZQ%3D%3D?line=49'>50</a>\u001b[0m ]\n\u001b[1;32m---> <a href='vscode-notebook-cell:/c%3A/Users/cami-javi/Desktop/PYTHON%20CASA%20DEL%20FUTURO/GITHUB-bucles/Python-bucles/Bucles%20-%20actividad.ipynb#X24sZmlsZQ%3D%3D?line=51'>52</a>\u001b[0m posicion_salida \u001b[39m=\u001b[39m encontrar_salida(laberinto)\n\u001b[0;32m     <a href='vscode-notebook-cell:/c%3A/Users/cami-javi/Desktop/PYTHON%20CASA%20DEL%20FUTURO/GITHUB-bucles/Python-bucles/Bucles%20-%20actividad.ipynb#X24sZmlsZQ%3D%3D?line=52'>53</a>\u001b[0m \u001b[39mif\u001b[39;00m posicion_salida:\n\u001b[0;32m     <a href='vscode-notebook-cell:/c%3A/Users/cami-javi/Desktop/PYTHON%20CASA%20DEL%20FUTURO/GITHUB-bucles/Python-bucles/Bucles%20-%20actividad.ipynb#X24sZmlsZQ%3D%3D?line=53'>54</a>\u001b[0m     \u001b[39mprint\u001b[39m(\u001b[39mf\u001b[39m\u001b[39m\"\u001b[39m\u001b[39mLa posición de salida es: \u001b[39m\u001b[39m{\u001b[39;00mposicion_salida\u001b[39m}\u001b[39;00m\u001b[39m\"\u001b[39m)\n",
      "\u001b[1;32mc:\\Users\\cami-javi\\Desktop\\PYTHON CASA DEL FUTURO\\GITHUB-bucles\\Python-bucles\\Bucles - actividad.ipynb Celda 19\u001b[0m line \u001b[0;36m3\n\u001b[0;32m     <a href='vscode-notebook-cell:/c%3A/Users/cami-javi/Desktop/PYTHON%20CASA%20DEL%20FUTURO/GITHUB-bucles/Python-bucles/Bucles%20-%20actividad.ipynb#X24sZmlsZQ%3D%3D?line=34'>35</a>\u001b[0m                 \u001b[39mreturn\u001b[39;00m (nx, ny)  \u001b[39m# Salida encontrada\u001b[39;00m\n\u001b[0;32m     <a href='vscode-notebook-cell:/c%3A/Users/cami-javi/Desktop/PYTHON%20CASA%20DEL%20FUTURO/GITHUB-bucles/Python-bucles/Bucles%20-%20actividad.ipynb#X24sZmlsZQ%3D%3D?line=35'>36</a>\u001b[0m             queue\u001b[39m.\u001b[39mappend(((nx, ny), distancia \u001b[39m+\u001b[39m \u001b[39m1\u001b[39m))\n\u001b[1;32m---> <a href='vscode-notebook-cell:/c%3A/Users/cami-javi/Desktop/PYTHON%20CASA%20DEL%20FUTURO/GITHUB-bucles/Python-bucles/Bucles%20-%20actividad.ipynb#X24sZmlsZQ%3D%3D?line=36'>37</a>\u001b[0m             visitados\u001b[39m.\u001b[39madd((nx, ny))\n\u001b[0;32m     <a href='vscode-notebook-cell:/c%3A/Users/cami-javi/Desktop/PYTHON%20CASA%20DEL%20FUTURO/GITHUB-bucles/Python-bucles/Bucles%20-%20actividad.ipynb#X24sZmlsZQ%3D%3D?line=38'>39</a>\u001b[0m \u001b[39mreturn\u001b[39;00m \u001b[39mNone\u001b[39;00m\n",
      "\u001b[1;31mKeyboardInterrupt\u001b[0m: "
     ]
    }
   ],
   "source": [
    "from collections import deque\n",
    "\n",
    "def encontrar_salida(laberinto):\n",
    "    if not laberinto or not laberinto[0]:\n",
    "        return None\n",
    "\n",
    "    filas = len(laberinto)\n",
    "    columnas = len(laberinto[0])\n",
    "\n",
    "    \n",
    "    direcciones = [(-1, 0), (1, 0), (0, -1), (0, 1)]\n",
    "\n",
    "\n",
    "    for i in range(filas):\n",
    "        for j in range(columnas):\n",
    "            if laberinto[i][j] == 's':\n",
    "                inicio = (i, j)\n",
    "                break\n",
    "\n",
    "    \n",
    "    def es_valido(x, y):\n",
    "        return 0 <= x < filas and 0 <= y < columnas and laberinto[x][y] == ' '\n",
    "\n",
    "    queue = deque([(inicio, 0)])\n",
    "    visitados = {inicio}\n",
    "    \n",
    "    while queue:\n",
    "        (x, y), distancia = queue.popleft()\n",
    "\n",
    "        for dx, dy in direcciones:\n",
    "            nx, ny = x + dx, y + dy\n",
    "            if es_valido(nx, ny):\n",
    "                if laberinto[nx][ny] == 's':\n",
    "                    return (nx, ny)  \n",
    "                queue.append(((nx, ny), distancia + 1))\n",
    "                visitados.add((nx, ny))\n",
    "\n",
    "    return None  \n",
    "\n",
    "# Ejemplo de uso:\n",
    "laberinto = [\n",
    "    [\"#\", \"#\", \"#\", \"#\", \"#\", \"#\", \"#\"],\n",
    "    [\"#\", \" \", \" \", \" \", \"#\", \" \", \"#\"],\n",
    "    [\"#\", \" \", \"#\", \" \", \"#\", \" \", \"#\"],\n",
    "    [\"#\", \" \", \"#\", \" \", \" \", \" \", \"#\"],\n",
    "    [\"#\", \" \", \"#\", \"#\", \"#\", \" \", \"#\"],\n",
    "    [\"#\", \"s\", \" \", \" \", \" \", \" \", \"#\"],\n",
    "    [\"#\", \"#\", \"#\", \"#\", \"#\", \"#\", \"#\"]\n",
    "]\n",
    "\n",
    "posicion_salida = encontrar_salida(laberinto)\n",
    "if posicion_salida:\n",
    "    print(f\"La posición de salida es: {posicion_salida}\")\n",
    "else:\n",
    "    print(\"No se encontró una salida en el laberinto.\")"
   ]
  },
  {
   "cell_type": "code",
   "execution_count": null,
   "metadata": {},
   "outputs": [],
   "source": [
    "# TEST EJERCICIO 8\n",
    "\n",
    "try:\n",
    "    assert ejercicio_8([\n",
    "        [\"#\", \"#\", \"#\", \"#\", \"#\", \"#\", \"#\", \"#\", \"#\", \"#\", \"#\", \"#\", \"#\", \"#\", \"#\", \"#\"],\n",
    "        [\"#\", \" \", \" \", \" \", \" \", \" \", \" \", \" \", \" \", \" \", \" \", \" \", \" \", \" \", \" \", \"#\"],\n",
    "        [\"#\", \" \", \"#\", \"#\", \"#\", \"#\", \"#\", \"#\", \"#\", \"#\", \" \", \"#\", \"#\", \"#\", \" \", \"#\"],\n",
    "        [\"#\", \" \", \"#\", \" \", \" \", \" \", \" \", \" \", \" \", \"#\", \" \", \"#\", \" \", \" \", \" \", \"#\"],\n",
    "        [\"#\", \" \", \"#\", \" \", \"#\", \"#\", \"#\", \"#\", \" \", \"#\", \" \", \"#\", \" \", \"#\", \"#\", \"#\"],\n",
    "        [\"#\", \" \", \"#\", \" \", \"#\", \" \", \" \", \" \", \" \", \"#\", \" \", \"#\", \" \", \" \", \" \", \"#\"],\n",
    "        [\"#\", \" \", \"#\", \" \", \"#\", \" \", \"#\", \"#\", \"#\", \"#\", \" \", \"#\", \"#\", \"#\", \" \", \"#\"],\n",
    "        [\"#\", \" \", \"#\", \" \", \"#\", \" \", \"#\", \" \", \" \", \" \", \" \", \" \", \" \", \" \", \" \", \"#\"],\n",
    "        [\"#\", \" \", \"#\", \" \", \"#\", \" \", \"#\", \" \", \"#\", \"#\", \"#\", \"#\", \"#\", \"#\", \"#\", \"#\"],\n",
    "        [\"#\", \" \", \"#\", \" \", \"#\", \" \", \"#\", \" \", \"#\", \" \", \" \", \" \", \" \", \" \", \" \", \"#\"],\n",
    "        [\"#\", \" \", \"#\", \" \", \"#\", \" \", \"#\", \" \", \"#\", \" \", \"#\", \"#\", \"#\", \"#\", \" \", \"#\"],\n",
    "        [\"#\", \" \", \"#\", \" \", \"#\", \" \", \"#\", \" \", \"#\", \" \", \" \", \" \", \" \", \"#\", \" \", \"#\"],\n",
    "        [\"#\", \" \", \"#\", \" \", \"#\", \" \", \"#\", \" \", \"#\", \"#\", \"#\", \"#\", \" \", \"#\", \" \", \"#\"],\n",
    "        [\"#\", \" \", \"#\", \" \", \"#\", \" \", \" \", \" \", \" \", \" \", \" \", \"#\", \" \", \"#\", \" \", \"#\"],\n",
    "        [\"#\", \" \", \"#\", \" \", \"#\", \"#\", \"#\", \"#\", \"#\", \"#\", \"#\", \"#\", \" \", \"#\", \" \", \"#\"],\n",
    "        [\"#\", \" \", \" \", \" \", \" \", \" \", \" \", \" \", \" \", \" \", \" \", \" \", \" \", \"#\", \" \", \"#\"],\n",
    "        [\"#\", \"#\", \"#\", \"#\", \"#\", \"#\", \"#\", \"#\", \"#\", \"#\", \"#\", \"#\", \"#\", \"#\", \"S\", \"#\"]\n",
    "    ]) == (16, 14)\n",
    "    print('\\033[92m' + '✓ Ejercicio correcto!')\n",
    "except AssertionError as e:\n",
    "    print('\\033[91m' + \"x Ejercicio incorrecto\")\n",
    "    "
   ]
  }
 ],
 "metadata": {
  "kernelspec": {
   "display_name": "Python 3",
   "language": "python",
   "name": "python3"
  },
  "language_info": {
   "codemirror_mode": {
    "name": "ipython",
    "version": 3
   },
   "file_extension": ".py",
   "mimetype": "text/x-python",
   "name": "python",
   "nbconvert_exporter": "python",
   "pygments_lexer": "ipython3",
   "version": "3.11.4"
  }
 },
 "nbformat": 4,
 "nbformat_minor": 2
}
